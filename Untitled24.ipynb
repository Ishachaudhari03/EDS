{
  "nbformat": 4,
  "nbformat_minor": 0,
  "metadata": {
    "colab": {
      "provenance": []
    },
    "kernelspec": {
      "name": "python3",
      "display_name": "Python 3"
    },
    "language_info": {
      "name": "python"
    }
  },
  "cells": [
    {
      "cell_type": "code",
      "source": [
        "import pandas as pd\n",
        "df=pd.read_csv('')\n",
        "print(df)\n"
      ],
      "metadata": {
        "id": "0HzMKVuRiW_k"
      },
      "execution_count": null,
      "outputs": []
    },
    {
      "cell_type": "code",
      "execution_count": null,
      "metadata": {
        "id": "sY92OUmSiVRo"
      },
      "outputs": [],
      "source": [
        "a=df['rollno']\n",
        "b=df['name']\n",
        "\n",
        "df.rollno = df.rollno.astype('int64')\n",
        "d=df['name'][df.ollno>2]\n",
        "\n",
        "def student(a,b):\n",
        "  print('stud:',a,b)\n",
        "student(a,b)\n",
        "def student(d):\n",
        "  print('Student Details:',d)\n",
        "student(d)"
      ]
    }
  ]
}