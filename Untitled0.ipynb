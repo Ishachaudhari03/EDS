{
  "nbformat": 4,
  "nbformat_minor": 0,
  "metadata": {
    "colab": {
      "provenance": []
    },
    "kernelspec": {
      "name": "python3",
      "display_name": "Python 3"
    },
    "language_info": {
      "name": "python"
    }
  },
  "cells": [
    {
      "cell_type": "code",
      "execution_count": null,
      "metadata": {
        "id": "zmDOE4HRLKsv"
      },
      "outputs": [],
      "source": []
    },
    {
      "cell_type": "code",
      "source": [
        "l1 = [15,25.6,\"python\"]\n",
        "print(l1)"
      ],
      "metadata": {
        "colab": {
          "base_uri": "https://localhost:8080/"
        },
        "id": "bTaEeJkpQX2X",
        "outputId": "46bf01a3-2fb5-4cc4-ab7c-8020313afedd"
      },
      "execution_count": null,
      "outputs": [
        {
          "output_type": "stream",
          "name": "stdout",
          "text": [
            "[15, 25.6, 'python']\n"
          ]
        }
      ]
    },
    {
      "cell_type": "code",
      "source": [
        "t1 = (21,\"python\",21.45)\n",
        "print(t1)"
      ],
      "metadata": {
        "colab": {
          "base_uri": "https://localhost:8080/"
        },
        "id": "OO-F19U0Q6-3",
        "outputId": "e4eb4eb6-7cba-498c-c1db-da0197d29fc1"
      },
      "execution_count": null,
      "outputs": [
        {
          "output_type": "stream",
          "name": "stdout",
          "text": [
            "(21, 'python', 21.45)\n"
          ]
        }
      ]
    },
    {
      "cell_type": "code",
      "source": [
        "#if statement\n",
        "n1 = int(input())\n",
        "n2 = int(input())\n",
        "n3 = int(input())\n",
        "if n1>n2 and n1>n3 :\n",
        "  print(n1,\"is largest\")\n",
        "if n2>n1 and n2>n3 :\n",
        "  print(n2,\"is largest\")\n",
        "if n3>n1 and n3>n2 :\n",
        "  print(n3,\"is largest\")"
      ],
      "metadata": {
        "colab": {
          "base_uri": "https://localhost:8080/"
        },
        "id": "n1EVLIkcZVKY",
        "outputId": "bed56af5-5e6b-43da-9767-e1c22e5c4a58"
      },
      "execution_count": null,
      "outputs": [
        {
          "output_type": "stream",
          "name": "stdout",
          "text": [
            "23\n",
            "45\n",
            "66\n",
            "66 is largest\n"
          ]
        }
      ]
    },
    {
      "cell_type": "code",
      "source": [
        "#if-else statement\n",
        "print(\"Enter a number\")\n",
        "num = int(input())\n",
        "if num%2==0:\n",
        "  print(num,\"is even\")\n",
        "else:\n",
        "  print(num,\"is odd\")\n",
        ""
      ],
      "metadata": {
        "colab": {
          "base_uri": "https://localhost:8080/"
        },
        "id": "qZqOgmMTbpOZ",
        "outputId": "7ec4823e-eeff-4f5d-e946-b9fc8df6ff14"
      },
      "execution_count": null,
      "outputs": [
        {
          "output_type": "stream",
          "name": "stdout",
          "text": [
            "Enter a number\n",
            "7\n",
            "7 is odd\n"
          ]
        }
      ]
    },
    {
      "cell_type": "code",
      "source": [
        "#nested if statement\n",
        "n1 = int(input())\n",
        "n2 = int(input())\n",
        "n3 = int(input())\n",
        "if n1>n2:\n",
        "  if n1>n3:\n",
        "    print(n1,\"is largest\")\n",
        "if n2>n1:\n",
        "  if n2>n3:\n",
        "    print(n2,\"is largest\")\n",
        "if n3>n1:\n",
        "  if n3>n2:\n",
        "    print(n3,\"is largest\")"
      ],
      "metadata": {
        "colab": {
          "base_uri": "https://localhost:8080/"
        },
        "id": "B7xvoRfOcY36",
        "outputId": "cb5d8822-ca7a-4811-ea09-c7c430aea907"
      },
      "execution_count": null,
      "outputs": [
        {
          "output_type": "stream",
          "name": "stdout",
          "text": [
            "45\n",
            "56\n",
            "89\n",
            "89 is largest\n"
          ]
        }
      ]
    },
    {
      "cell_type": "code",
      "source": [
        "d1 = {\"Aradhana\" : 21, \"prarthahna\" : 100, \"Rugved\" : 23}\n",
        "print(d1)"
      ],
      "metadata": {
        "colab": {
          "base_uri": "https://localhost:8080/"
        },
        "id": "9gR6sHTDRTWf",
        "outputId": "510e74e4-f953-48dd-bd1b-2395669bff03"
      },
      "execution_count": null,
      "outputs": [
        {
          "output_type": "stream",
          "name": "stdout",
          "text": [
            "{'Aradhana': 21, 'prarthahna': 100, 'Rugved': 23}\n"
          ]
        }
      ]
    }
  ]
}